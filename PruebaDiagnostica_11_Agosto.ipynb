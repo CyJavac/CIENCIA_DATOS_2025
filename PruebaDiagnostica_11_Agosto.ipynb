{
  "nbformat": 4,
  "nbformat_minor": 0,
  "metadata": {
    "colab": {
      "provenance": [],
      "authorship_tag": "ABX9TyN9qIbtSQmM4vUEsxVsyewO",
      "include_colab_link": true
    },
    "kernelspec": {
      "name": "python3",
      "display_name": "Python 3"
    },
    "language_info": {
      "name": "python"
    }
  },
  "cells": [
    {
      "cell_type": "markdown",
      "metadata": {
        "id": "view-in-github",
        "colab_type": "text"
      },
      "source": [
        "<a href=\"https://colab.research.google.com/github/CyJavac/CIENCIA_DATOS_2025/blob/main/PruebaDiagnostica_11_Agosto.ipynb\" target=\"_parent\"><img src=\"https://colab.research.google.com/assets/colab-badge.svg\" alt=\"Open In Colab\"/></a>"
      ]
    },
    {
      "cell_type": "markdown",
      "source": [
        "#Prueba Diagnostica"
      ],
      "metadata": {
        "id": "Z_r0sHAnkZtv"
      }
    },
    {
      "cell_type": "markdown",
      "source": [
        "##Parte 1: Estructuras de Decisión (10 ejercicios)\n",
        "1.\tEscribe un programa que reciba un número e indique si es positivo.\n",
        "2.\tEscribe un programa que reciba una edad y determine si la persona es mayor de edad.\n",
        "3.\tEscribe un programa que reciba dos números e imprima el mayor.\n",
        "4.\tEscribe un programa que reciba una calificación (0-100) e indique si es Aprobado (>=60) o Reprobado.\n",
        "5.\tEscribe un programa que determine si un número es par o impar.\n",
        "6.\tEscribe un programa que reciba tres números e imprima el mayor de los tres.\n",
        "7.\tEscribe un programa que reciba un año e indique si es bisiesto.\n",
        "8.\tEscribe un programa que reciba una contraseña e indique si cumple con las siguientes reglas: más de 8 caracteres, contiene al menos un número y una letra mayúscula.\n",
        "9.\tEscribe un programa que lea un número e imprima “Fizz” si es divisible por 3, “Buzz” si es divisible por 5 y “FizzBuzz” si es divisible por ambos.\n",
        "10.\tEscribe un programa que simule un cajero automático: recibe el monto a retirar e imprime si la operación es posible en base al saldo disponible.\n"
      ],
      "metadata": {
        "id": "HGDzND6wm0dM"
      }
    },
    {
      "cell_type": "code",
      "execution_count": 4,
      "metadata": {
        "colab": {
          "base_uri": "https://localhost:8080/"
        },
        "id": "wQzfmOELkU83",
        "outputId": "5e3c4ecb-32af-4393-fb22-71e4faa188ec"
      },
      "outputs": [
        {
          "output_type": "stream",
          "name": "stdout",
          "text": [
            "Ingrese un número: -60\n",
            "El número es negativo\n"
          ]
        }
      ],
      "source": [
        "numero = input(\"Ingrese un número: \")\n",
        "if int(numero) > 0:\n",
        "  print(\"El número es positivo\")\n",
        "else:\n",
        "  print(\"El número es negativo\")"
      ]
    },
    {
      "cell_type": "code",
      "source": [
        "edad = input(\"Ingrese su edad: \")\n",
        "if int(edad) >= 18:\n",
        "  print(\"Es mayor de edad\")\n",
        "else:\n",
        "  print(\"Es menor de edad\")"
      ],
      "metadata": {
        "colab": {
          "base_uri": "https://localhost:8080/"
        },
        "id": "zBW_CS1hnPZ0",
        "outputId": "d0628e6a-a7d1-45c9-cb46-a0415c2d4d07"
      },
      "execution_count": 6,
      "outputs": [
        {
          "output_type": "stream",
          "name": "stdout",
          "text": [
            "Ingrese su edad: 12\n",
            "Es menor de edad\n"
          ]
        }
      ]
    },
    {
      "cell_type": "code",
      "source": [
        "num1 = input(\"Ingrese el primer número: \")\n",
        "num2 = input(\"Ingrese el segundo número: \")\n",
        "if int(num1) > int(num2):\n",
        "  print(f\"El primer número '{num1}' es mayor\")\n",
        "else:\n",
        "  print(f\"El segundo número '{num2}' es mayor\")"
      ],
      "metadata": {
        "colab": {
          "base_uri": "https://localhost:8080/"
        },
        "id": "7DoK4eBonWuz",
        "outputId": "44925627-ca00-4d77-807e-9f1b3a567ae8"
      },
      "execution_count": 8,
      "outputs": [
        {
          "output_type": "stream",
          "name": "stdout",
          "text": [
            "Ingrese el primer número: 60\n",
            "Ingrese el segundo número: 3\n",
            "El primer número '60' es mayor\n"
          ]
        }
      ]
    },
    {
      "cell_type": "code",
      "source": [
        "calificacion = input(\"Ingrese su calificación: \")\n",
        "if int(calificacion) >= 60:\n",
        "  print(\"Aprobado\")\n",
        "else:\n",
        "  print(\"Reprobado\")"
      ],
      "metadata": {
        "colab": {
          "base_uri": "https://localhost:8080/"
        },
        "id": "018XRcA8nrMc",
        "outputId": "8fe7a96c-f7cb-4a51-921d-a40065609b26"
      },
      "execution_count": 9,
      "outputs": [
        {
          "output_type": "stream",
          "name": "stdout",
          "text": [
            "Ingrese su calificación: 30\n",
            "Reprobado\n"
          ]
        }
      ]
    },
    {
      "cell_type": "code",
      "source": [
        "numero = input(\"Ingrese un número: \")\n",
        "if int(numero) % 2 == 0:\n",
        "  print(\"El número es par\")\n",
        "else:\n",
        "  print(\"El número es impar\")"
      ],
      "metadata": {
        "colab": {
          "base_uri": "https://localhost:8080/"
        },
        "id": "fw4JXlGHnwVz",
        "outputId": "0e629519-85ca-4d82-c148-218e8e02badf"
      },
      "execution_count": 11,
      "outputs": [
        {
          "output_type": "stream",
          "name": "stdout",
          "text": [
            "Ingrese un número: 13\n",
            "El número es impar\n"
          ]
        }
      ]
    },
    {
      "cell_type": "code",
      "source": [
        "num1 = input(\"Ingrese el primer número: \")\n",
        "num2 = input(\"Ingrese el segundo número: \")\n",
        "num3 = input(\"Ingrese el tercer número: \")\n",
        "if int(num1) > int(num2) and int(num1) > int(num3):\n",
        "  print(f\"El número '{num1}' es mayor\")\n",
        "elif int(num2) > int(num1) and int(num2) > int(num3):\n",
        "  print(f\"El número '{num2}' es mayor\")\n",
        "else:\n",
        "  print(f\"El número '{num3}' es mayor\")"
      ],
      "metadata": {
        "colab": {
          "base_uri": "https://localhost:8080/"
        },
        "id": "GkJaVG0_n9_j",
        "outputId": "08eb8382-b523-4878-a6fa-aa5d0f79b3cf"
      },
      "execution_count": 19,
      "outputs": [
        {
          "output_type": "stream",
          "name": "stdout",
          "text": [
            "Ingrese el primer número: 100\n",
            "Ingrese el segundo número: 200\n",
            "Ingrese el tercer número: 3\n",
            "El número '200' es mayor\n"
          ]
        }
      ]
    },
    {
      "cell_type": "code",
      "source": [
        "anio= input(\"Ingrese un año: \")\n",
        "if int(anio) % 4 == 0:\n",
        "  print(\"El año es bisiesto\")\n",
        "else:\n",
        "  print(\"El año no es bisiesto\")"
      ],
      "metadata": {
        "colab": {
          "base_uri": "https://localhost:8080/"
        },
        "id": "w3jLPT8Uo8Ja",
        "outputId": "16a2a2a4-f008-4da8-e98a-cd4dcd1a1b2b"
      },
      "execution_count": 20,
      "outputs": [
        {
          "output_type": "stream",
          "name": "stdout",
          "text": [
            "Ingrese un año: 2020\n",
            "El año es bisiesto\n"
          ]
        }
      ]
    },
    {
      "cell_type": "markdown",
      "source": [
        "AAA"
      ],
      "metadata": {
        "id": "VwnK-ylnqrUR"
      }
    },
    {
      "cell_type": "code",
      "source": [
        "contrasenia = input(\"Ingrese una contraseña: \")\n",
        "if len(contrasenia) > 8 and any(char.isdigit() for char in contrasenia) and any(char.isupper() for char in contrasenia):\n",
        "  print(\"La contraseña es válida\")\n",
        "else:\n",
        "  print(\"La contraseña no es válida\")"
      ],
      "metadata": {
        "colab": {
          "base_uri": "https://localhost:8080/"
        },
        "id": "XIJYcuazpHBi",
        "outputId": "3480ecc4-708c-4e03-c9fd-34d669927de6"
      },
      "execution_count": 25,
      "outputs": [
        {
          "output_type": "stream",
          "name": "stdout",
          "text": [
            "Ingrese una contraseña: holaQh4c3\n",
            "La contraseña es válida\n"
          ]
        }
      ]
    },
    {
      "cell_type": "code",
      "source": [
        "numero = input(\"Ingrese un número: \")\n",
        "if int(numero) % 3 == 0 and int(numero) % 5 == 0:\n",
        "  print(\"FizzBuzz\")\n",
        "elif int(numero) % 3 == 0:\n",
        "  print(\"Fizz\")\n",
        "elif int(numero) % 5 == 0:\n",
        "  print(\"Buzz\")"
      ],
      "metadata": {
        "colab": {
          "base_uri": "https://localhost:8080/"
        },
        "id": "Z8TL3aQ0qsSA",
        "outputId": "e29dbcf0-6309-4986-d070-36ffdbebd4e0"
      },
      "execution_count": 29,
      "outputs": [
        {
          "output_type": "stream",
          "name": "stdout",
          "text": [
            "Ingrese un número: 15\n",
            "FizzBuzz\n"
          ]
        }
      ]
    },
    {
      "cell_type": "code",
      "source": [
        "saldo = 1000\n",
        "montoRetirar = input(\"Ingrese el monto a retirar: \")\n",
        "if int(montoRetirar) <= saldo:\n",
        "  print(\"La operación es posible\")\n",
        "else:\n",
        "  print(\"La operación no es posible\")"
      ],
      "metadata": {
        "colab": {
          "base_uri": "https://localhost:8080/"
        },
        "id": "a4q442BYrHyY",
        "outputId": "207ab160-3507-445a-d38d-17dd6c8c1b9a"
      },
      "execution_count": 30,
      "outputs": [
        {
          "output_type": "stream",
          "name": "stdout",
          "text": [
            "Ingrese el monto a retirar: 30\n",
            "La operación es posible\n"
          ]
        }
      ]
    },
    {
      "cell_type": "markdown",
      "source": [
        "##Parte 2: Estructuras de Repetición (10 ejercicios)\n",
        "1.\tEscribe un programa que imprima los números del 1 al 10.\n",
        "2.\tEscribe un programa que sume los números del 1 al 100.\n",
        "3.\tEscribe un programa que imprima los múltiplos de 3 entre 1 y 30.\n",
        "4.\tEscribe un programa que lea un número e imprima su tabla de multiplicar del 1 al 10.\n",
        "5.\tEscribe un programa que pida 5 números al usuario y calcule el promedio.\n",
        "6.\tEscribe un programa que cuente cuántos números pares hay entre 1 y un número ingresado.\n",
        "7.\tEscribe un programa que solicite contraseñas hasta que el usuario ingrese una válida, formada por su apellido y la longitud de su apellido (“Espinosa8”, por ejemplo).\n",
        "8.\tEscribe un programa que imprima los primeros n números de la serie de Fibonacci.\n",
        "9.\tEscribe un programa que determine si un número ingresado es primo.\n",
        "10.\tEscribe un programa que pida una cantidad y luego ingrese esa cantidad de números, imprima cuántos son positivos, negativos y ceros.\n"
      ],
      "metadata": {
        "id": "1KEN7rk8rRAX"
      }
    },
    {
      "cell_type": "code",
      "source": [
        "for i in range(1, 101):\n",
        "  print(i)"
      ],
      "metadata": {
        "colab": {
          "base_uri": "https://localhost:8080/"
        },
        "id": "MYNhFF-cr3Gu",
        "outputId": "51245d5f-4dd6-47a8-b9ad-056879c7f909"
      },
      "execution_count": 44,
      "outputs": [
        {
          "output_type": "stream",
          "name": "stdout",
          "text": [
            "1\n",
            "2\n",
            "3\n",
            "4\n",
            "5\n",
            "6\n",
            "7\n",
            "8\n",
            "9\n",
            "10\n",
            "11\n",
            "12\n",
            "13\n",
            "14\n",
            "15\n",
            "16\n",
            "17\n",
            "18\n",
            "19\n",
            "20\n",
            "21\n",
            "22\n",
            "23\n",
            "24\n",
            "25\n",
            "26\n",
            "27\n",
            "28\n",
            "29\n",
            "30\n",
            "31\n",
            "32\n",
            "33\n",
            "34\n",
            "35\n",
            "36\n",
            "37\n",
            "38\n",
            "39\n",
            "40\n",
            "41\n",
            "42\n",
            "43\n",
            "44\n",
            "45\n",
            "46\n",
            "47\n",
            "48\n",
            "49\n",
            "50\n",
            "51\n",
            "52\n",
            "53\n",
            "54\n",
            "55\n",
            "56\n",
            "57\n",
            "58\n",
            "59\n",
            "60\n",
            "61\n",
            "62\n",
            "63\n",
            "64\n",
            "65\n",
            "66\n",
            "67\n",
            "68\n",
            "69\n",
            "70\n",
            "71\n",
            "72\n",
            "73\n",
            "74\n",
            "75\n",
            "76\n",
            "77\n",
            "78\n",
            "79\n",
            "80\n",
            "81\n",
            "82\n",
            "83\n",
            "84\n",
            "85\n",
            "86\n",
            "87\n",
            "88\n",
            "89\n",
            "90\n",
            "91\n",
            "92\n",
            "93\n",
            "94\n",
            "95\n",
            "96\n",
            "97\n",
            "98\n",
            "99\n",
            "100\n"
          ]
        }
      ]
    },
    {
      "cell_type": "code",
      "source": [
        "suma = 0\n",
        "for i in range(1, 101):\n",
        "  suma = suma + i\n",
        "print(suma)"
      ],
      "metadata": {
        "colab": {
          "base_uri": "https://localhost:8080/"
        },
        "id": "t10Z7jonstw-",
        "outputId": "a0065093-5d9f-4893-e1e0-5185c1068376"
      },
      "execution_count": 41,
      "outputs": [
        {
          "output_type": "stream",
          "name": "stdout",
          "text": [
            "5050\n"
          ]
        }
      ]
    },
    {
      "cell_type": "code",
      "source": [
        "for i in range(1, 31):\n",
        "  if i % 3 == 0:\n",
        "    print(i)"
      ],
      "metadata": {
        "colab": {
          "base_uri": "https://localhost:8080/"
        },
        "id": "rNm6y4QNtKe2",
        "outputId": "f8e874a8-a9da-4e0c-e020-7fd6e8f662c2"
      },
      "execution_count": 47,
      "outputs": [
        {
          "output_type": "stream",
          "name": "stdout",
          "text": [
            "3\n",
            "6\n",
            "9\n",
            "12\n",
            "15\n",
            "18\n",
            "21\n",
            "24\n",
            "27\n",
            "30\n"
          ]
        }
      ]
    },
    {
      "cell_type": "code",
      "source": [
        "numero = input(\"Ingrese un número: \")\n",
        "for i in range(1, 11):\n",
        "  print(f\"{numero} x {i} = {int(numero) * i}\")"
      ],
      "metadata": {
        "colab": {
          "base_uri": "https://localhost:8080/"
        },
        "id": "6gqlDWoCtsUd",
        "outputId": "9dbfd901-fdcd-4c38-c0ee-18e3faabf95b"
      },
      "execution_count": 49,
      "outputs": [
        {
          "output_type": "stream",
          "name": "stdout",
          "text": [
            "Ingrese un número: 3\n",
            "3 x 1 = 3\n",
            "3 x 2 = 6\n",
            "3 x 3 = 9\n",
            "3 x 4 = 12\n",
            "3 x 5 = 15\n",
            "3 x 6 = 18\n",
            "3 x 7 = 21\n",
            "3 x 8 = 24\n",
            "3 x 9 = 27\n",
            "3 x 10 = 30\n"
          ]
        }
      ]
    },
    {
      "cell_type": "code",
      "source": [
        "suma = 0\n",
        "for i in range(1,6):\n",
        "  numero = input(\"Ingrese un número: \")\n",
        "  suma = suma + int(numero)\n",
        "print(f\"El promedio es {suma/5}\")"
      ],
      "metadata": {
        "colab": {
          "base_uri": "https://localhost:8080/"
        },
        "id": "kj-IQQL_uDsM",
        "outputId": "d4c80d34-b9cd-4dd5-cc4f-b6832cc58a21"
      },
      "execution_count": 51,
      "outputs": [
        {
          "output_type": "stream",
          "name": "stdout",
          "text": [
            "Ingrese un número: 1\n",
            "Ingrese un número: 2\n",
            "Ingrese un número: 3\n",
            "Ingrese un número: 4\n",
            "Ingrese un número: 5\n",
            "El promedio es 3.0\n"
          ]
        }
      ]
    },
    {
      "cell_type": "code",
      "source": [
        "cuenta = 0\n",
        "numero = input(\"Ingrese un número: \")\n",
        "for i in range(1, int(numero) + 1):\n",
        "  if i % 2 == 0:\n",
        "    cuenta = cuenta + 1\n",
        "print(f\"Hay {cuenta} números pares entre 1 y {numero}\")"
      ],
      "metadata": {
        "colab": {
          "base_uri": "https://localhost:8080/"
        },
        "id": "5U2wnnSYuiNt",
        "outputId": "08f65a15-1193-4a86-9850-743094a0e6aa"
      },
      "execution_count": 52,
      "outputs": [
        {
          "output_type": "stream",
          "name": "stdout",
          "text": [
            "Ingrese un número: 20\n",
            "Hay 10 números pares entre 1 y 20\n"
          ]
        }
      ]
    },
    {
      "cell_type": "code",
      "source": [
        "conValida = \"Abaunza7\"\n",
        "contrasenia = input(\"Ingrese una contraseña: \")\n",
        "while contrasenia != conValida:\n",
        "  contrasenia = input(\"Ingrese una contraseña: \")\n",
        "print(\"Contraseña válida\")"
      ],
      "metadata": {
        "colab": {
          "base_uri": "https://localhost:8080/"
        },
        "id": "i52Hpb7au5Zc",
        "outputId": "1f4aec19-173e-4c2e-fa59-3b4adca78add"
      },
      "execution_count": 53,
      "outputs": [
        {
          "output_type": "stream",
          "name": "stdout",
          "text": [
            "Ingrese una contraseña: hola\n",
            "Ingrese una contraseña: nohola\n",
            "Ingrese una contraseña: adios\n",
            "Ingrese una contraseña: Abaunza7\n",
            "Contraseña válida\n"
          ]
        }
      ]
    },
    {
      "cell_type": "code",
      "source": [
        "n = input(\"Ingrese n: \")\n",
        "a = 0\n",
        "b = 1\n",
        "print(a)\n",
        "print(b)\n",
        "for i in range(1, int(n) - 1):\n",
        "  c = a + b\n",
        "  print(c)\n",
        "  a = b\n",
        "  b = c"
      ],
      "metadata": {
        "colab": {
          "base_uri": "https://localhost:8080/"
        },
        "id": "EU60sXucvSIE",
        "outputId": "ac0cca62-665a-4fac-b086-c2e179bef975"
      },
      "execution_count": 56,
      "outputs": [
        {
          "output_type": "stream",
          "name": "stdout",
          "text": [
            "Ingrese n: 6\n",
            "0\n",
            "1\n",
            "1\n",
            "2\n",
            "3\n",
            "5\n"
          ]
        }
      ]
    },
    {
      "cell_type": "code",
      "source": [
        "numero = input(\"Ingrese un número: \")\n",
        "primo = True\n",
        "for i in range(2, int(numero)):\n",
        "  if int(numero) % i == 0:\n",
        "    primo = False\n",
        "    break\n",
        "if primo:\n",
        "  print(\"El número es primo\")\n",
        "else:\n",
        "  print(\"El número no es primo\")"
      ],
      "metadata": {
        "colab": {
          "base_uri": "https://localhost:8080/"
        },
        "id": "K9iHn-eVvtqE",
        "outputId": "367e35fd-fa73-436e-8d83-0e8d65bf215a"
      },
      "execution_count": 60,
      "outputs": [
        {
          "output_type": "stream",
          "name": "stdout",
          "text": [
            "Ingrese un número: 4\n",
            "El número no es primo\n"
          ]
        }
      ]
    },
    {
      "cell_type": "code",
      "source": [
        "cantidad = int(input(\"Ingrese la cantidad de números: \"))\n",
        "positivos = 0\n",
        "negativos = 0\n",
        "ceros = 0\n",
        "for i in range(cantidad):\n",
        "    numero = int(input(\"Ingrese un número: \"))\n",
        "    if numero > 0:\n",
        "        positivos += 1\n",
        "    elif numero < 0:\n",
        "        negativos += 1\n",
        "    else:\n",
        "        ceros += 1\n",
        "print(f\"Positivos: {positivos}, Negativos: {negativos}, Ceros: {ceros}\")"
      ],
      "metadata": {
        "colab": {
          "base_uri": "https://localhost:8080/"
        },
        "id": "z2elXP5fwHGE",
        "outputId": "5ad801de-602a-4eb7-c724-5218f48073d8"
      },
      "execution_count": 62,
      "outputs": [
        {
          "output_type": "stream",
          "name": "stdout",
          "text": [
            "Ingrese la cantidad de números: 6\n",
            "Ingrese un número: 1\n",
            "Ingrese un número: 3\n",
            "Ingrese un número: -30\n",
            "Ingrese un número: 0\n",
            "Ingrese un número: 39\n",
            "Ingrese un número: -5\n",
            "Positivos: 3, Negativos: 2, Ceros: 1\n"
          ]
        }
      ]
    },
    {
      "cell_type": "markdown",
      "source": [
        "##Parte 3: Funciones y Tipos de Datos (20 ejercicios)\n",
        "1.\tCrea una función que reciba un número y retorne su cuadrado.\n",
        "2.\tCrea una función que reciba un nombre y retorne un saludo personalizado (ese saludo debe ser aleatorio. Para ello, genere al menos 20 saludos).\n",
        "3.\tCrea una función que reciba dos números y retorne su suma, resta, multiplicación y división.\n",
        "4.\tCrea una función que reciba una edad y retorne si es mayor de edad.\n",
        "5.\tCrea una función que reciba una palabra y determine si es un palíndromo.\n",
        "6.\tCrea una función que reciba un texto y retorne cuántas vocales contiene.\n",
        "7.\tCrea una función que reciba una lista de números y retorne la suma total.\n",
        "8.\tCrea una función que reciba una lista y retorne el mayor y el menor elemento.\n",
        "9.\tCrea una función que reciba una lista y retorne una nueva lista con los elementos en orden inverso.\n",
        "10.\tCrea una función que reciba una lista de nombres y retorne cuántos nombres comienzan con vocal.\n",
        "11.\tCrea una función que reciba una lista y retorne otra lista sin elementos repetidos.\n",
        "12.\tCrea una función que reciba una lista de números y retorne solo los que son primos.\n",
        "13.\tCrea una función que reciba un diccionario con claves 'nombre' y 'edad', y retorne un mensaje con esos datos.\n",
        "14.\tCrea una función que reciba un diccionario de productos (clave: nombre, valor: precio) y retorne el total.\n",
        "15.\tCrea una función que reciba un diccionario de estudiantes (clave: nombre, valor: nota) y retorne el promedio.\n",
        "16.\tCrea una función que reciba un diccionario y un nombre, y retorne la nota si existe o 'no encontrado'.\n",
        "17.\tCrea una función que reciba un diccionario y retorne el nombre del estudiante con mayor nota.\n",
        "18.\tCrea una función que reciba un diccionario de productos y retorne los productos con precios mayores a un valor dado.\n",
        "19.\tCrea una función que reciba un diccionario de empleados (clave: nombre, valor: lista de horas trabajadas) y retorne el total de horas por empleado.\n",
        "20.\tCrea una función que reciba un diccionario anidado con datos de estudiantes (nombre  {'nota': x, 'edad': y}) y retorne el promedio de notas de los mayores de edad.\n"
      ],
      "metadata": {
        "id": "Hb0UtKEGwpGj"
      }
    },
    {
      "cell_type": "code",
      "source": [
        "def cuadrado(numero):\n",
        "  return numero * numero\n",
        "cuadrado(3)"
      ],
      "metadata": {
        "colab": {
          "base_uri": "https://localhost:8080/"
        },
        "id": "WPqA3uKNwwmT",
        "outputId": "f1cf8c9c-cc08-4fdb-c61b-44bbb84ef92d"
      },
      "execution_count": 64,
      "outputs": [
        {
          "output_type": "execute_result",
          "data": {
            "text/plain": [
              "9"
            ]
          },
          "metadata": {},
          "execution_count": 64
        }
      ]
    },
    {
      "cell_type": "code",
      "source": [
        "#Nope. Me da pereza ¯\\_(T-T)_/¯"
      ],
      "metadata": {
        "id": "tFAFZLwgw9Mz"
      },
      "execution_count": null,
      "outputs": []
    },
    {
      "cell_type": "code",
      "source": [
        "def operaciones(num1, num2):\n",
        "  return num1 + num2, num1 - num2, num1 * num2, num1 / num2\n",
        "operaciones(5, 7)"
      ],
      "metadata": {
        "colab": {
          "base_uri": "https://localhost:8080/"
        },
        "id": "LxgCA_EAxU2y",
        "outputId": "5a2b2037-da0d-4e07-cba0-78a873959a86"
      },
      "execution_count": 66,
      "outputs": [
        {
          "output_type": "execute_result",
          "data": {
            "text/plain": [
              "(12, -2, 35, 0.7142857142857143)"
            ]
          },
          "metadata": {},
          "execution_count": 66
        }
      ]
    },
    {
      "cell_type": "code",
      "source": [
        "def edad(edad):\n",
        "  if edad >= 18:\n",
        "    return \"Es mayor de edad\"\n",
        "  else:\n",
        "    return \"Es menor de edad\"\n",
        "edad(19)"
      ],
      "metadata": {
        "colab": {
          "base_uri": "https://localhost:8080/",
          "height": 35
        },
        "id": "4z_UWSkxxgg6",
        "outputId": "1cefb1fa-9697-4597-dbe4-6f94f3c6d74f"
      },
      "execution_count": 67,
      "outputs": [
        {
          "output_type": "execute_result",
          "data": {
            "text/plain": [
              "'Es mayor de edad'"
            ],
            "application/vnd.google.colaboratory.intrinsic+json": {
              "type": "string"
            }
          },
          "metadata": {},
          "execution_count": 67
        }
      ]
    },
    {
      "cell_type": "code",
      "source": [
        "def palindromo(palabra):\n",
        "  if palabra == palabra[::-1]:\n",
        "    return \"Es un palíndromo\"\n",
        "  else:\n",
        "    return \"No es un palíndromo\"\n",
        "print(palindromo(\"oso\"))\n",
        "print(palindromo(\"hola\"))"
      ],
      "metadata": {
        "colab": {
          "base_uri": "https://localhost:8080/"
        },
        "id": "hSdB4BwXxmta",
        "outputId": "7bac8413-c2d0-4f4b-baa6-5a7a9f951241"
      },
      "execution_count": 114,
      "outputs": [
        {
          "output_type": "stream",
          "name": "stdout",
          "text": [
            "Es un palíndromo\n",
            "No es un palíndromo\n"
          ]
        }
      ]
    },
    {
      "cell_type": "code",
      "source": [
        "def vocales(texto):\n",
        "  vocales = [\"a\",\"e\",\"i\",\"o\",\"u\",\"A\",\"E\",\"I\",\"O\",\"U\"]\n",
        "  cuenta = 0\n",
        "  for letra in texto:\n",
        "    if letra in vocales:\n",
        "      cuenta = cuenta + 1\n",
        "  return cuenta\n",
        "vocales(\"un texto MUY largo\")"
      ],
      "metadata": {
        "colab": {
          "base_uri": "https://localhost:8080/"
        },
        "id": "_FMRq2AUxwmi",
        "outputId": "f3a567e9-18ff-4c1a-f5ab-f0556f49e1f6"
      },
      "execution_count": 76,
      "outputs": [
        {
          "output_type": "execute_result",
          "data": {
            "text/plain": [
              "6"
            ]
          },
          "metadata": {},
          "execution_count": 76
        }
      ]
    },
    {
      "cell_type": "code",
      "source": [
        "def suma(lista):\n",
        "  suma = 0\n",
        "  for numero in lista:\n",
        "    suma = suma + numero\n",
        "  return suma\n",
        "suma([1,2,3,4,5])"
      ],
      "metadata": {
        "colab": {
          "base_uri": "https://localhost:8080/"
        },
        "id": "MgwmejX-yMdC",
        "outputId": "a2ae83c5-1779-47fc-b78b-e9a7ea0704f5"
      },
      "execution_count": 77,
      "outputs": [
        {
          "output_type": "execute_result",
          "data": {
            "text/plain": [
              "15"
            ]
          },
          "metadata": {},
          "execution_count": 77
        }
      ]
    },
    {
      "cell_type": "code",
      "source": [
        "def mayorMenor(lista):\n",
        "  mayor = lista[0]\n",
        "  menor = lista[0]\n",
        "  for numero in lista:\n",
        "    if numero > mayor:\n",
        "      mayor = numero\n",
        "    if numero < menor:\n",
        "      menor = numero\n",
        "  return f\"Mayor: {mayor}, Menor: {menor}\"\n",
        "mayorMenor([1,3,9,8,2])"
      ],
      "metadata": {
        "colab": {
          "base_uri": "https://localhost:8080/",
          "height": 35
        },
        "id": "Gk45gqrtyZPS",
        "outputId": "309d156c-7d55-46a5-a4f8-237ff853cac2"
      },
      "execution_count": 85,
      "outputs": [
        {
          "output_type": "execute_result",
          "data": {
            "text/plain": [
              "'Mayor: 9, Menor: 1'"
            ],
            "application/vnd.google.colaboratory.intrinsic+json": {
              "type": "string"
            }
          },
          "metadata": {},
          "execution_count": 85
        }
      ]
    },
    {
      "cell_type": "code",
      "source": [
        "def inverso(lista):\n",
        "  return lista[::-1]\n",
        "inverso([1,2,3,4,5])"
      ],
      "metadata": {
        "colab": {
          "base_uri": "https://localhost:8080/"
        },
        "id": "1n8qhuIAzI9x",
        "outputId": "7cbc5cef-fa88-4427-82fc-1e3fbafd29a3"
      },
      "execution_count": 86,
      "outputs": [
        {
          "output_type": "execute_result",
          "data": {
            "text/plain": [
              "[5, 4, 3, 2, 1]"
            ]
          },
          "metadata": {},
          "execution_count": 86
        }
      ]
    },
    {
      "cell_type": "code",
      "source": [
        "def nombresV(listaNombres):\n",
        "  listaNombres = listaNombres.split(\",\")\n",
        "  vocales = [\"a\",\"e\",\"i\",\"o\",\"u\",\"A\",\"E\",\"I\",\"O\",\"U\"]\n",
        "  cuenta = 0\n",
        "  for nombre in listaNombres:\n",
        "    if nombre[0] in vocales:\n",
        "      cuenta = cuenta + 1\n",
        "  return cuenta\n",
        "nombresV(\"Juan,Ana,Maria,Luis,Omar,Oscar\")"
      ],
      "metadata": {
        "colab": {
          "base_uri": "https://localhost:8080/"
        },
        "id": "aSlJZtXpzmTJ",
        "outputId": "1dd6d82c-fe1d-4877-e831-92ab6cccaac6"
      },
      "execution_count": 89,
      "outputs": [
        {
          "output_type": "execute_result",
          "data": {
            "text/plain": [
              "0"
            ]
          },
          "metadata": {},
          "execution_count": 89
        }
      ]
    },
    {
      "cell_type": "code",
      "source": [
        "def sinRepetidos(lista):\n",
        "  listaSinRepetidos = []\n",
        "  for elemento in lista:\n",
        "    if elemento not in listaSinRepetidos:\n",
        "      listaSinRepetidos.append(elemento)\n",
        "  return listaSinRepetidos\n",
        "\n",
        "sinRepetidos([1,2,3,4,5,5,4,3,2,1])"
      ],
      "metadata": {
        "colab": {
          "base_uri": "https://localhost:8080/"
        },
        "id": "jaENYYRU0J74",
        "outputId": "5393584d-89b6-4d48-956f-72f60b3675d2"
      },
      "execution_count": 88,
      "outputs": [
        {
          "output_type": "execute_result",
          "data": {
            "text/plain": [
              "[1, 2, 3, 4, 5]"
            ]
          },
          "metadata": {},
          "execution_count": 88
        }
      ]
    },
    {
      "cell_type": "code",
      "source": [
        "def primos(lista):\n",
        "  primos = []\n",
        "  for numero in lista:\n",
        "    primo = True\n",
        "    for i in range(2, numero):\n",
        "      if numero % i == 0:\n",
        "        primo = False\n",
        "        break\n",
        "    if primo:\n",
        "      primos.append(numero)\n",
        "  return primos\n",
        "primos([1,2,3,4,5,6,7,8,9,10])"
      ],
      "metadata": {
        "colab": {
          "base_uri": "https://localhost:8080/"
        },
        "id": "eNmzTiDc0fM4",
        "outputId": "d8237ea3-ac70-4912-d8a9-82616238887e"
      },
      "execution_count": 91,
      "outputs": [
        {
          "output_type": "execute_result",
          "data": {
            "text/plain": [
              "[1, 2, 3, 5, 7]"
            ]
          },
          "metadata": {},
          "execution_count": 91
        }
      ]
    },
    {
      "cell_type": "code",
      "source": [
        "dicNombres = {\"Pepe\": 3, \"Juan\": 20, \"Maria\": 13}\n",
        "\n",
        "def diccionarioNames(dicNombres):\n",
        "  for key in dicNombres:\n",
        "    value = dicNombres[key]\n",
        "    print(f\"{key} tiene {value} años\")\n",
        "\n",
        "diccionarioNames(dicNombres)"
      ],
      "metadata": {
        "colab": {
          "base_uri": "https://localhost:8080/"
        },
        "id": "4oSzwusH2Fmo",
        "outputId": "a23a1171-c889-4b1d-d195-924ee626d0ae"
      },
      "execution_count": 104,
      "outputs": [
        {
          "output_type": "stream",
          "name": "stdout",
          "text": [
            "Pepe tiene 3 años\n",
            "Juan tiene 20 años\n",
            "Maria tiene 13 años\n"
          ]
        }
      ]
    },
    {
      "cell_type": "code",
      "source": [
        "dicProductos= {\"manzana\": 100, \"pera\": 200, \"banana\": 500}\n",
        "def diccionarioProductos(dicProductos):\n",
        "  total = 0\n",
        "  for key in dicProductos:\n",
        "    value = dicProductos[key]\n",
        "    total = total + value\n",
        "  return total\n",
        "\n",
        "diccionarioProductos(dicProductos)\n"
      ],
      "metadata": {
        "colab": {
          "base_uri": "https://localhost:8080/"
        },
        "id": "D7mLJHm24Bxs",
        "outputId": "0a48b96b-4445-484d-9b43-c705505829a4"
      },
      "execution_count": 107,
      "outputs": [
        {
          "output_type": "execute_result",
          "data": {
            "text/plain": [
              "800"
            ]
          },
          "metadata": {},
          "execution_count": 107
        }
      ]
    },
    {
      "cell_type": "code",
      "source": [
        "estudiantes = {\"Pepe\": 30, \"Juan\": 20, \"Maria\": 46}\n",
        "def promedio(dicNotas):\n",
        "  suma = 0\n",
        "  for key in dicNotas:\n",
        "    value = dicNotas[key]\n",
        "    suma = suma + value\n",
        "  return suma/len(dicNotas)\n",
        "\n",
        "promedio(estudiantes)"
      ],
      "metadata": {
        "colab": {
          "base_uri": "https://localhost:8080/"
        },
        "id": "yho-1Bw84U_U",
        "outputId": "f715e4dc-a31e-4185-e60b-b32fc2c456b2"
      },
      "execution_count": 108,
      "outputs": [
        {
          "output_type": "execute_result",
          "data": {
            "text/plain": [
              "32.0"
            ]
          },
          "metadata": {},
          "execution_count": 108
        }
      ]
    },
    {
      "cell_type": "code",
      "source": [
        "estudiantes = {\"Pepe\": 30, \"Juan\": 20, \"Maria\": 46}\n",
        "\n",
        "def nota(dicNotas, nombre):\n",
        "  if nombre in dicNotas:\n",
        "    return dicNotas[nombre]\n",
        "  else:\n",
        "    return \"No encontrado\"\n",
        "\n",
        "print(nota(estudiantes, \"Ana\"))\n",
        "print(nota(estudiantes, \"Pepe\"))"
      ],
      "metadata": {
        "colab": {
          "base_uri": "https://localhost:8080/"
        },
        "id": "ES6Hgk7u4lYc",
        "outputId": "47ff77ff-1459-41d9-c9de-f5eed6c188e4"
      },
      "execution_count": 112,
      "outputs": [
        {
          "output_type": "stream",
          "name": "stdout",
          "text": [
            "No encontrado\n",
            "30\n"
          ]
        }
      ]
    },
    {
      "cell_type": "code",
      "source": [
        "estudiantes = {\"Pepe\": 30, \"Juan\": 20, \"Maria\": 46}\n",
        "\n",
        "def mayorNota(dicNotas):\n",
        "  mayor = 0\n",
        "  for key in dicNotas:\n",
        "    value = dicNotas[key]\n",
        "    if value > mayor:\n",
        "      mayor = value\n",
        "      nombre = key\n",
        "  return nombre\n",
        "\n",
        "mayorNota(estudiantes)"
      ],
      "metadata": {
        "colab": {
          "base_uri": "https://localhost:8080/",
          "height": 35
        },
        "id": "JUEyYYrY48Ms",
        "outputId": "0787db12-6796-42eb-b05a-96e86dd4d6ad"
      },
      "execution_count": 113,
      "outputs": [
        {
          "output_type": "execute_result",
          "data": {
            "text/plain": [
              "'Maria'"
            ],
            "application/vnd.google.colaboratory.intrinsic+json": {
              "type": "string"
            }
          },
          "metadata": {},
          "execution_count": 113
        }
      ]
    }
  ]
}