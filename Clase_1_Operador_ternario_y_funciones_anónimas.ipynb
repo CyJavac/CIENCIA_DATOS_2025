{
  "nbformat": 4,
  "nbformat_minor": 0,
  "metadata": {
    "colab": {
      "provenance": [],
      "authorship_tag": "ABX9TyPbJJU3OqbaAmvUYLaWUZUy",
      "include_colab_link": true
    },
    "kernelspec": {
      "name": "python3",
      "display_name": "Python 3"
    },
    "language_info": {
      "name": "python"
    }
  },
  "cells": [
    {
      "cell_type": "markdown",
      "metadata": {
        "id": "view-in-github",
        "colab_type": "text"
      },
      "source": [
        "<a href=\"https://colab.research.google.com/github/CyJavac/CIENCIA_DATOS_2025/blob/main/Clase_1_Operador_ternario_y_funciones_an%C3%B3nimas.ipynb\" target=\"_parent\"><img src=\"https://colab.research.google.com/assets/colab-badge.svg\" alt=\"Open In Colab\"/></a>"
      ]
    },
    {
      "cell_type": "markdown",
      "source": [
        "#Operador ternario\n",
        "Es otra forma de declarar la estructura condicional.\n",
        "\n",
        "Estructura condicional\n",
        "```\n",
        "if (condición):\n",
        "  Aqui entra si es verdadera\n",
        "else:\n",
        "  Aqui si es falsa\n",
        "```\n",
        "\n",
        "Operador Ternario\n",
        "\n",
        "\n",
        "```\n",
        "Rta si es verdadero if (condicion) else si es falso\n",
        "```\n"
      ],
      "metadata": {
        "id": "AfybNWqe0384"
      }
    },
    {
      "cell_type": "code",
      "execution_count": 1,
      "metadata": {
        "colab": {
          "base_uri": "https://localhost:8080/"
        },
        "id": "JaUYqPNq0yRb",
        "outputId": "39c6b84c-62a5-4c0e-f6fe-3e0bdc1e6d19"
      },
      "outputs": [
        {
          "name": "stdout",
          "output_type": "stream",
          "text": [
            "Ingrese un valor: 8\n",
            "Ingrese otro valor: 10\n"
          ]
        }
      ],
      "source": [
        "#Conocer el mayor de dos numeros\n",
        "a = int(input(\"Ingrese un valor: \"))\n",
        "b = int(input(\"Ingrese otro valor: \"))"
      ]
    },
    {
      "cell_type": "code",
      "source": [
        "if a > b:\n",
        "  print(f\"{a} es mayor que {b}\")\n",
        "else:\n",
        "  print(f\"{b} es mayor que {a}\")"
      ],
      "metadata": {
        "colab": {
          "base_uri": "https://localhost:8080/"
        },
        "id": "wotY2deE2K-_",
        "outputId": "b65b1cb0-8669-4e82-e0b0-1113a7dd2e10"
      },
      "execution_count": 2,
      "outputs": [
        {
          "output_type": "stream",
          "name": "stdout",
          "text": [
            "10 es mayor que 8\n"
          ]
        }
      ]
    },
    {
      "cell_type": "code",
      "source": [
        "msg=(f\"{a} es mayor que {b}\") if a > b else (f\"{b} es mayor que {a}\")\n",
        "print(msg)"
      ],
      "metadata": {
        "colab": {
          "base_uri": "https://localhost:8080/"
        },
        "id": "KCzPf88-2YCm",
        "outputId": "597e3cee-9996-4371-b2ee-cc876d6a51a8"
      },
      "execution_count": 3,
      "outputs": [
        {
          "output_type": "stream",
          "name": "stdout",
          "text": [
            "10 es mayor que 8\n"
          ]
        }
      ]
    },
    {
      "cell_type": "markdown",
      "source": [
        "#Funciones\n",
        "1. Funciones / Métodos\n",
        "2. Funciones anónimas"
      ],
      "metadata": {
        "id": "6VPYuJxz4NlF"
      }
    },
    {
      "cell_type": "markdown",
      "source": [
        "##Funciones\n",
        "Declarando una función\n",
        "\n",
        "\n",
        "```\n",
        "def (nombre_de_la_funcion)(parámetros, de, la, funcion):\n",
        "  Adentro va o que se va a ejecutar\n",
        "```\n",
        "###Tipos funciones\n",
        "\n",
        "1. Sin parámetro, sin retorno\n",
        "2. Sin parámetro, con retorno\n",
        "3. Con parámetro, sin retorno\n",
        "4. Con parámetro, con retorno\n",
        "5. Anónimas: Con parámetro, con retorno, pero sin nombre"
      ],
      "metadata": {
        "id": "tU5_MKcj4hC1"
      }
    },
    {
      "cell_type": "markdown",
      "source": [
        "###1. Sin parámetro, sin retorno\n",
        "\n",
        "-Se emplea cuando no se rquiere un almacenamiento en una varible local.\n",
        "\n",
        "-No se requiere parámetros para su uso."
      ],
      "metadata": {
        "id": "cqkebket5PiE"
      }
    },
    {
      "cell_type": "code",
      "source": [
        "print(\"hola Mundo\")"
      ],
      "metadata": {
        "colab": {
          "base_uri": "https://localhost:8080/"
        },
        "id": "LoMZGzBz5L7t",
        "outputId": "ad5b3780-dd20-4c27-ada7-268aaf4e41ae"
      },
      "execution_count": 4,
      "outputs": [
        {
          "output_type": "stream",
          "name": "stdout",
          "text": [
            "hola Mundo\n"
          ]
        }
      ]
    },
    {
      "cell_type": "code",
      "source": [
        "def saludo():\n",
        "  print(\"hola Mundo\")"
      ],
      "metadata": {
        "id": "3qzT4nyS5XCl"
      },
      "execution_count": 95,
      "outputs": []
    },
    {
      "cell_type": "code",
      "source": [
        "saludo()"
      ],
      "metadata": {
        "colab": {
          "base_uri": "https://localhost:8080/"
        },
        "id": "m1bDNnq25cCt",
        "outputId": "a899550c-0a19-4e76-f301-1a6dcf3c883a"
      },
      "execution_count": 96,
      "outputs": [
        {
          "output_type": "stream",
          "name": "stdout",
          "text": [
            "hola Mundo\n"
          ]
        }
      ]
    },
    {
      "cell_type": "markdown",
      "source": [
        "###2. Sin parámetro, con retorno\n",
        "\n",
        "-Cuando necesito realizar una operación.\n",
        "\n",
        "-Convertir una variable local en global."
      ],
      "metadata": {
        "id": "tzMjN3qQ5hWl"
      }
    },
    {
      "cell_type": "code",
      "source": [
        "def numero():\n",
        "  return 4+5\n",
        "\n",
        "c=numero()\n",
        "c"
      ],
      "metadata": {
        "colab": {
          "base_uri": "https://localhost:8080/"
        },
        "id": "kOSCxvIJ5jdc",
        "outputId": "aa7e740f-9423-467b-c1be-0541277b699a"
      },
      "execution_count": 8,
      "outputs": [
        {
          "output_type": "execute_result",
          "data": {
            "text/plain": [
              "9"
            ]
          },
          "metadata": {},
          "execution_count": 8
        }
      ]
    },
    {
      "cell_type": "code",
      "source": [
        "def numero2():\n",
        "  d=4+5 #Variable local (Solo dentro de a función)"
      ],
      "metadata": {
        "id": "Gfq7xxxH6H-s"
      },
      "execution_count": 12,
      "outputs": []
    },
    {
      "cell_type": "markdown",
      "source": [
        "###3. Con parámetro, sin retorno"
      ],
      "metadata": {
        "id": "cG9Rcv296_MT"
      }
    },
    {
      "cell_type": "code",
      "source": [
        "def cuadrado(a): print(a**2)\n",
        "cuadrado(5)"
      ],
      "metadata": {
        "colab": {
          "base_uri": "https://localhost:8080/"
        },
        "id": "VX7Q4YSv6-zr",
        "outputId": "76d59175-ad15-492e-fef4-503e7344ee35"
      },
      "execution_count": 13,
      "outputs": [
        {
          "output_type": "stream",
          "name": "stdout",
          "text": [
            "25\n"
          ]
        }
      ]
    },
    {
      "cell_type": "markdown",
      "source": [
        "###4. Con parámetro, con retorno"
      ],
      "metadata": {
        "id": "iGKYdKVM7SwM"
      }
    },
    {
      "cell_type": "code",
      "source": [
        "def cubo(b): return(b**3)\n",
        "a=cubo(6)\n",
        "a"
      ],
      "metadata": {
        "colab": {
          "base_uri": "https://localhost:8080/"
        },
        "id": "yr0GXSlQ7SR0",
        "outputId": "bb9e08dd-3fb6-44c0-ee70-171b7bf4fcbf"
      },
      "execution_count": 15,
      "outputs": [
        {
          "output_type": "execute_result",
          "data": {
            "text/plain": [
              "216"
            ]
          },
          "metadata": {},
          "execution_count": 15
        }
      ]
    },
    {
      "cell_type": "markdown",
      "source": [
        "### Ejemplo\n"
      ],
      "metadata": {
        "id": "ouzh3PL07mhT"
      }
    },
    {
      "cell_type": "code",
      "source": [
        "def comparar(a,b):\n",
        "  if a > b:\n",
        "    print(f\"{a} es mayor que {b}\")\n",
        "  else:\n",
        "    print(f\"{b} es mayor que {a}\")"
      ],
      "metadata": {
        "id": "z4Dthlc77ntD"
      },
      "execution_count": 16,
      "outputs": []
    },
    {
      "cell_type": "code",
      "source": [
        "comparar(6,7)"
      ],
      "metadata": {
        "colab": {
          "base_uri": "https://localhost:8080/"
        },
        "id": "bN-lHetT7u7L",
        "outputId": "2334949d-5f3f-4ec5-bb63-59fdd1fefae4"
      },
      "execution_count": 17,
      "outputs": [
        {
          "output_type": "stream",
          "name": "stdout",
          "text": [
            "7 es mayor que 6\n"
          ]
        }
      ]
    },
    {
      "cell_type": "code",
      "source": [
        "def comparar2(a,b):\n",
        "  return f\"{a} es mayor que {b}\" if a > b else f\"{b} es mayor que {a}\""
      ],
      "metadata": {
        "id": "iXGHsoJy8B0j"
      },
      "execution_count": 21,
      "outputs": []
    },
    {
      "cell_type": "code",
      "source": [
        "comparar2(3,6)"
      ],
      "metadata": {
        "colab": {
          "base_uri": "https://localhost:8080/",
          "height": 35
        },
        "id": "7yNyjfQW8HoL",
        "outputId": "185be650-9ad9-4899-ee4b-5fb220db1af2"
      },
      "execution_count": 22,
      "outputs": [
        {
          "output_type": "execute_result",
          "data": {
            "text/plain": [
              "'6 es mayor que 3'"
            ],
            "application/vnd.google.colaboratory.intrinsic+json": {
              "type": "string"
            }
          },
          "metadata": {},
          "execution_count": 22
        }
      ]
    },
    {
      "cell_type": "markdown",
      "source": [
        "###Ejercicio con operador ternario"
      ],
      "metadata": {
        "id": "I0nhiQwf8ZrD"
      }
    },
    {
      "cell_type": "markdown",
      "source": [
        "####Parte 3: Funciones y Tipos de Datos"
      ],
      "metadata": {
        "id": "kMh0N54k8-Zz"
      }
    },
    {
      "cell_type": "code",
      "source": [
        "#1\tCrea una función que reciba un número y retorne su cuadrado.\n",
        "def cuadrado(a): return(a**2)\n",
        "cuadrado(5)"
      ],
      "metadata": {
        "colab": {
          "base_uri": "https://localhost:8080/"
        },
        "id": "7POX2vxm9ery",
        "outputId": "587ee392-de83-4b57-e72f-aea48c62594f"
      },
      "execution_count": 24,
      "outputs": [
        {
          "output_type": "execute_result",
          "data": {
            "text/plain": [
              "25"
            ]
          },
          "metadata": {},
          "execution_count": 24
        }
      ]
    },
    {
      "cell_type": "code",
      "source": [
        "#2\tCrea una función que reciba un nombre y retorne un saludo personalizado (ese saludo debe ser aleatorio. Para ello, genere al menos 20 saludos).\n",
        "def saludo_personal(nombre):\n",
        ""
      ],
      "metadata": {
        "id": "hZuecs2J9i1i"
      },
      "execution_count": null,
      "outputs": []
    },
    {
      "cell_type": "code",
      "source": [
        "#3\tCrea una función que reciba dos números y retorne su suma, resta, multiplicación y división.\n",
        "def operaciones(a,b):\n",
        "  suma=a+b\n",
        "  resta=a-b\n",
        "  multiplicacion=a*b\n",
        "  division=a/b\n",
        "  return f\"Suma: {suma}, Resta: {resta}, Multiplicación: {multiplicacion}, División: {division}\"\n",
        "\n",
        "operaciones(5,6)"
      ],
      "metadata": {
        "colab": {
          "base_uri": "https://localhost:8080/",
          "height": 35
        },
        "id": "9UUiPUa-9uoh",
        "outputId": "b98ff2a6-ea58-41c9-e2ea-ef11b27c55b5"
      },
      "execution_count": 26,
      "outputs": [
        {
          "output_type": "execute_result",
          "data": {
            "text/plain": [
              "'Suma: 11, Resta: -1, Multiplicación: 30, División: 0.8333333333333334'"
            ],
            "application/vnd.google.colaboratory.intrinsic+json": {
              "type": "string"
            }
          },
          "metadata": {},
          "execution_count": 26
        }
      ]
    },
    {
      "cell_type": "code",
      "source": [
        "#4\tCrea una función que reciba una edad y retorne si es mayor de edad.\n",
        "def mayor_edad(edad):\n",
        "  return \"Es mayor de edad\" if edad >= 18 else \"Es menor de edad\"\n",
        "\n",
        "mayor_edad(20)"
      ],
      "metadata": {
        "colab": {
          "base_uri": "https://localhost:8080/",
          "height": 35
        },
        "id": "qiIKQeG6-I4y",
        "outputId": "591142d4-b1db-41b0-be0e-c74ef653cf68"
      },
      "execution_count": 27,
      "outputs": [
        {
          "output_type": "execute_result",
          "data": {
            "text/plain": [
              "'Es mayor de edad'"
            ],
            "application/vnd.google.colaboratory.intrinsic+json": {
              "type": "string"
            }
          },
          "metadata": {},
          "execution_count": 27
        }
      ]
    },
    {
      "cell_type": "code",
      "source": [
        "#5\tCrea una función que reciba una palabra y determine si es un palíndromo.\n",
        "def palindromo(palabra):\n",
        "  return f\"Es un palíndromo\" if palabra == palabra[::-1] else \"No es un palíndromo\"\n",
        "\n",
        "palindromo(\"oso\")"
      ],
      "metadata": {
        "colab": {
          "base_uri": "https://localhost:8080/",
          "height": 35
        },
        "id": "oWtGFHzx-PRi",
        "outputId": "5f7bdc99-5be0-4866-fa83-7cbdc6029e56"
      },
      "execution_count": 28,
      "outputs": [
        {
          "output_type": "execute_result",
          "data": {
            "text/plain": [
              "'Es un palíndromo'"
            ],
            "application/vnd.google.colaboratory.intrinsic+json": {
              "type": "string"
            }
          },
          "metadata": {},
          "execution_count": 28
        }
      ]
    },
    {
      "cell_type": "code",
      "source": [
        "#6\tCrea una función que reciba un texto y retorne cuántas vocales contiene.\n",
        "def vocales(texto):\n",
        "  vocales = [\"a\",\"e\",\"i\",\"o\",\"u\",\"A\",\"E\",\"I\",\"O\",\"U\"]\n",
        "  cuenta = 0\n",
        "  for letra in texto:\n",
        "    if letra in vocales:\n",
        "      cuenta = cuenta + 1\n",
        "  return cuenta\n",
        "vocales(\"este es un texto MUY largo\")"
      ],
      "metadata": {
        "colab": {
          "base_uri": "https://localhost:8080/"
        },
        "id": "j-UXNEPn-snh",
        "outputId": "78dca491-5af4-4b95-e426-40cefc62dfe2"
      },
      "execution_count": 29,
      "outputs": [
        {
          "output_type": "execute_result",
          "data": {
            "text/plain": [
              "9"
            ]
          },
          "metadata": {},
          "execution_count": 29
        }
      ]
    },
    {
      "cell_type": "code",
      "source": [
        "#7\tCrea una función que reciba una lista de números y retorne la suma total.\n",
        "def suma(lista):\n",
        "  suma = 0\n",
        "  for numero in lista:\n",
        "    suma = suma + numero\n",
        "  return suma\n",
        "suma([1,2,7,3,42])"
      ],
      "metadata": {
        "colab": {
          "base_uri": "https://localhost:8080/"
        },
        "id": "fE-wdOYf-0jx",
        "outputId": "6d8971b6-50f0-42b7-9075-db3e0fbf9597"
      },
      "execution_count": 30,
      "outputs": [
        {
          "output_type": "execute_result",
          "data": {
            "text/plain": [
              "55"
            ]
          },
          "metadata": {},
          "execution_count": 30
        }
      ]
    },
    {
      "cell_type": "code",
      "source": [
        "#8\tCrea una función que reciba una lista y retorne el mayor y el menor elemento.\n",
        "def mayorMenor(lista):\n",
        "  mayor = lista[0]\n",
        "  menor = lista[0]\n",
        "  for numero in lista:\n",
        "    if numero > mayor:\n",
        "      mayor = numero\n",
        "    if numero < menor:\n",
        "      menor = numero\n",
        "  return f\"Mayor: {mayor}, Menor: {menor}\"\n",
        "\n",
        "mayorMenor([1,3,9,8,2])"
      ],
      "metadata": {
        "colab": {
          "base_uri": "https://localhost:8080/",
          "height": 35
        },
        "id": "vhVB1REt-_hB",
        "outputId": "5122907b-5689-46c7-e541-cf6f351dda07"
      },
      "execution_count": 31,
      "outputs": [
        {
          "output_type": "execute_result",
          "data": {
            "text/plain": [
              "'Mayor: 9, Menor: 1'"
            ],
            "application/vnd.google.colaboratory.intrinsic+json": {
              "type": "string"
            }
          },
          "metadata": {},
          "execution_count": 31
        }
      ]
    },
    {
      "cell_type": "code",
      "source": [
        "#9\tCrea una función que reciba una lista y retorne una nueva lista con los elementos en orden inverso.\n",
        "def inverso(lista):\n",
        "  return lista[::-1]\n",
        "\n",
        "inverso([1,2,3,4,5])"
      ],
      "metadata": {
        "colab": {
          "base_uri": "https://localhost:8080/"
        },
        "id": "j_G7S83p_QM5",
        "outputId": "db80e7af-717e-4753-c719-f7344ad4ae49"
      },
      "execution_count": 32,
      "outputs": [
        {
          "output_type": "execute_result",
          "data": {
            "text/plain": [
              "[5, 4, 3, 2, 1]"
            ]
          },
          "metadata": {},
          "execution_count": 32
        }
      ]
    },
    {
      "cell_type": "code",
      "source": [
        "#10\tCrea una función que reciba una lista de nombres y retorne cuántos nombres comienzan con vocal.\n",
        "def nombresV(listaNombres):\n",
        "  listaNombres = listaNombres.split(\",\")\n",
        "  vocales = [\"a\",\"e\",\"i\",\"o\",\"u\",\"A\",\"E\",\"I\",\"O\",\"U\"]\n",
        "  cuenta = 0\n",
        "  for nombre in listaNombres:\n",
        "    cuenta = cuenta + 1 if nombre[0] in vocales else cuenta\n",
        "  return cuenta\n",
        "nombresV(\"Juan,Ana,Maria,Luis,Omar,Oscar\")"
      ],
      "metadata": {
        "colab": {
          "base_uri": "https://localhost:8080/"
        },
        "id": "WwQOuUnI_XwQ",
        "outputId": "fe9d2b63-1cbf-454e-8fce-d90ac7921aec"
      },
      "execution_count": 37,
      "outputs": [
        {
          "output_type": "execute_result",
          "data": {
            "text/plain": [
              "3"
            ]
          },
          "metadata": {},
          "execution_count": 37
        }
      ]
    },
    {
      "cell_type": "code",
      "source": [
        "#11\tCrea una función que reciba una lista y retorne otra lista sin elementos repetidos.\n",
        "def sinRepetidos(lista):\n",
        "  listaSinRepetidos = []\n",
        "  for elemento in lista:\n",
        "    listaSinRepetidos.append(elemento) if elemento not in listaSinRepetidos else listaSinRepetidos\n",
        "  return listaSinRepetidos\n",
        "\n",
        "sinRepetidos([1,2,3,4,5,5,4,3,2,1])"
      ],
      "metadata": {
        "colab": {
          "base_uri": "https://localhost:8080/"
        },
        "id": "cK938wmd_p25",
        "outputId": "cb627780-d0e4-4e71-c8e6-f70f60310e90"
      },
      "execution_count": 38,
      "outputs": [
        {
          "output_type": "execute_result",
          "data": {
            "text/plain": [
              "[1, 2, 3, 4, 5]"
            ]
          },
          "metadata": {},
          "execution_count": 38
        }
      ]
    },
    {
      "cell_type": "code",
      "source": [
        "sinRepetidos([1,1,1,1,1,1,1,1,1,1,1])"
      ],
      "metadata": {
        "colab": {
          "base_uri": "https://localhost:8080/"
        },
        "id": "HMAPXnq2_8q4",
        "outputId": "2e17503c-9512-4033-fd09-e38f83884093"
      },
      "execution_count": 39,
      "outputs": [
        {
          "output_type": "execute_result",
          "data": {
            "text/plain": [
              "[1]"
            ]
          },
          "metadata": {},
          "execution_count": 39
        }
      ]
    },
    {
      "cell_type": "code",
      "source": [
        "#12\tCrea una función que reciba una lista de números y retorne solo los que son primos.\n",
        "def primos(lista):\n",
        "  primos = []\n",
        "  for numero in lista:\n",
        "    primo = True\n",
        "    for i in range(2, numero):\n",
        "      primo = False if numero % i == 0 else primo\n",
        "    primos.append(numero) if primo else primos\n",
        "  return primos\n",
        "primos([1,2,3,4,5,6,7,8,9,10])"
      ],
      "metadata": {
        "colab": {
          "base_uri": "https://localhost:8080/"
        },
        "id": "W0-Ws-eq__GI",
        "outputId": "349f9fe1-6aa7-48d7-c264-94c33f936fb4"
      },
      "execution_count": 41,
      "outputs": [
        {
          "output_type": "execute_result",
          "data": {
            "text/plain": [
              "[1, 2, 3, 5, 7]"
            ]
          },
          "metadata": {},
          "execution_count": 41
        }
      ]
    },
    {
      "cell_type": "code",
      "source": [
        "#13\tCrea una función que reciba un diccionario con claves 'nombre' y 'edad', y retorne un mensaje con esos datos.\n",
        "dicNombres = {\"Pepe\": 3, \"Juan\": 20, \"Maria\": 13}\n",
        "\n",
        "def diccionarioNames(dicNombres):\n",
        "  for key in dicNombres:\n",
        "    value = dicNombres[key]\n",
        "    print(f\"{key} tiene {value} años\")\n",
        "\n",
        "diccionarioNames(dicNombres)"
      ],
      "metadata": {
        "colab": {
          "base_uri": "https://localhost:8080/"
        },
        "id": "f2Xsee_VAboQ",
        "outputId": "2f534c46-fde3-4ffc-8225-86df5f7b3435"
      },
      "execution_count": 44,
      "outputs": [
        {
          "output_type": "stream",
          "name": "stdout",
          "text": [
            "Pepe tiene 3 años\n",
            "Juan tiene 20 años\n",
            "Maria tiene 13 años\n"
          ]
        }
      ]
    },
    {
      "cell_type": "code",
      "source": [
        "#Diccionarios para los siguientes ejercicios:\n",
        "estudiantes = {\"Pepe\": 30, \"Juan\": 20, \"Maria\": 46}\n",
        "dicProductos = {\"Manzana\": 10, \"Pera\": 20, \"Naranja\": 30}\n",
        "dicEmpleados = {\"Pepe\": [10,20,30], \"Juan\": [20,30,40], \"Maria\": [30,40,50]}\n",
        "moreEstudiantes = {\n",
        "  \"Pepe\" : {\n",
        "    \"nota\" : 30,\n",
        "    \"edad\" : 30\n",
        "  },\n",
        "  \"Juan\" : {\n",
        "    \"nota\" : 20,\n",
        "    \"edad\" : 18\n",
        "  },\n",
        "  \"Maria\" : {\n",
        "    \"nota\" : 46,\n",
        "    \"edad\" : 14\n",
        "  }\n",
        "}"
      ],
      "metadata": {
        "id": "vHw8kd6xBqn_"
      },
      "execution_count": 72,
      "outputs": []
    },
    {
      "cell_type": "code",
      "source": [
        "#14\tCrea una función que reciba un diccionario de productos (clave: nombre, valor: precio) y retorne el total.\n",
        "def diccionarioProductos(dicProductos):\n",
        "  total = 0\n",
        "  for key in dicProductos:\n",
        "    value = dicProductos[key]\n",
        "    total = total + value\n",
        "  return total\n",
        "\n",
        "diccionarioProductos(dicProductos)"
      ],
      "metadata": {
        "colab": {
          "base_uri": "https://localhost:8080/"
        },
        "id": "2HxYdAPMBDDY",
        "outputId": "f21e8575-5556-4266-b161-1d3a9744ab61"
      },
      "execution_count": 59,
      "outputs": [
        {
          "output_type": "execute_result",
          "data": {
            "text/plain": [
              "60"
            ]
          },
          "metadata": {},
          "execution_count": 59
        }
      ]
    },
    {
      "cell_type": "code",
      "source": [
        "#15\tCrea una función que reciba un diccionario de estudiantes (clave: nombre, valor: nota) y retorne el promedio.\n",
        "def promedio(dicNotas):\n",
        "  suma = 0\n",
        "  for key in dicNotas:\n",
        "    value = dicNotas[key]\n",
        "    suma = suma + value\n",
        "  return suma/len(dicNotas)\n",
        "\n",
        "promedio(estudiantes)"
      ],
      "metadata": {
        "colab": {
          "base_uri": "https://localhost:8080/"
        },
        "id": "hm2QEBzUBT8H",
        "outputId": "e4c64535-8f23-44bf-a64d-50d23ba2f636"
      },
      "execution_count": 50,
      "outputs": [
        {
          "output_type": "execute_result",
          "data": {
            "text/plain": [
              "32.0"
            ]
          },
          "metadata": {},
          "execution_count": 50
        }
      ]
    },
    {
      "cell_type": "code",
      "source": [
        "#16\tCrea una función que reciba un diccionario y un nombre, y retorne la nota si existe o 'no encontrado'.\n",
        "def nota(dicNotas, nombre):\n",
        "  return dicNotas[nombre] if nombre in dicNotas else \"No encontrado\"\n",
        "\n",
        "print(nota(estudiantes, \"Pepe\"))\n",
        "print(nota(estudiantes, \"Ana\"))"
      ],
      "metadata": {
        "colab": {
          "base_uri": "https://localhost:8080/"
        },
        "id": "1uo0nB1hBkXv",
        "outputId": "546b1a9f-c654-42b1-e83f-3dacc3809ee7"
      },
      "execution_count": 52,
      "outputs": [
        {
          "output_type": "stream",
          "name": "stdout",
          "text": [
            "30\n",
            "No encontrado\n"
          ]
        }
      ]
    },
    {
      "cell_type": "code",
      "source": [
        "#17\tCrea una función que reciba un diccionario y retorne el nombre del estudiante con mayor nota.\n",
        "def mayorNota(dicNotas):\n",
        "  mayor = 0\n",
        "  for key in dicNotas:\n",
        "    value = dicNotas[key]\n",
        "    mayor, nombre = (value, key) if value > mayor else (mayor, nombre)\n",
        "  return nombre\n",
        "\n",
        "mayorNota(estudiantes)"
      ],
      "metadata": {
        "colab": {
          "base_uri": "https://localhost:8080/",
          "height": 35
        },
        "id": "o1IFInN4B5HP",
        "outputId": "4a476218-18ca-4182-eff7-3a6898b8033b"
      },
      "execution_count": 53,
      "outputs": [
        {
          "output_type": "execute_result",
          "data": {
            "text/plain": [
              "'Maria'"
            ],
            "application/vnd.google.colaboratory.intrinsic+json": {
              "type": "string"
            }
          },
          "metadata": {},
          "execution_count": 53
        }
      ]
    },
    {
      "cell_type": "code",
      "source": [
        "#18\tCrea una función que reciba un diccionario de productos y retorne los productos con precios mayores a un valor dado.\n",
        "def precioMayor(dicProductos, valor):\n",
        "  for key in dicProductos:\n",
        "    value = dicProductos[key]\n",
        "    print(key) if value > valor else print(\"El precio del producto no es mayor a\", valor)\n",
        "\n",
        "precioMayor(dicProductos, 20)"
      ],
      "metadata": {
        "colab": {
          "base_uri": "https://localhost:8080/"
        },
        "id": "PNBvrFndDKZm",
        "outputId": "ce36a79e-57ea-4272-9873-bb669ad6f7f2"
      },
      "execution_count": 61,
      "outputs": [
        {
          "output_type": "stream",
          "name": "stdout",
          "text": [
            "El precio del producto no es mayor a 20\n",
            "El precio del producto no es mayor a 20\n",
            "Naranja\n"
          ]
        }
      ]
    },
    {
      "cell_type": "code",
      "source": [
        "#19\tCrea una función que reciba un diccionario de empleados (clave: nombre, valor: lista de horas trabajadas) y retorne el total de horas por empleado.\n",
        "def horasTrabajadas(dicEmpleados):\n",
        "  for key in dicEmpleados:\n",
        "    value = dicEmpleados[key]\n",
        "    print(f\"{key} ha trabajado {sum(value)} horas\")\n",
        "\n",
        "horasTrabajadas(dicEmpleados)"
      ],
      "metadata": {
        "colab": {
          "base_uri": "https://localhost:8080/"
        },
        "id": "woB2Ias1EBqO",
        "outputId": "5019c34f-115b-425f-cab2-17fcea82a5ac"
      },
      "execution_count": 63,
      "outputs": [
        {
          "output_type": "stream",
          "name": "stdout",
          "text": [
            "Pepe ha trabajado 60 horas\n",
            "Juan ha trabajado 90 horas\n",
            "Maria ha trabajado 120 horas\n"
          ]
        }
      ]
    },
    {
      "cell_type": "code",
      "source": [
        "#20\tCrea una función que reciba un diccionario anidado con datos de estudiantes (nombre -> {'nota': x, 'edad': y}) y retorne el promedio de notas de los mayores de edad.\n",
        "def promedioMayores(moreEstudiantes):\n",
        "  suma = 0\n",
        "  contador = 0\n",
        "  for key in moreEstudiantes:\n",
        "    value = moreEstudiantes[key]\n",
        "    if value[\"edad\"] >= 18:\n",
        "      suma = suma + value[\"nota\"]\n",
        "      contador = contador + 1\n",
        "  return suma/contador\n",
        "\n",
        "promedioMayores(moreEstudiantes)"
      ],
      "metadata": {
        "colab": {
          "base_uri": "https://localhost:8080/"
        },
        "id": "JkK-s1CqEpXW",
        "outputId": "0692de8b-f606-4f3e-8ca4-c19038a4dce6"
      },
      "execution_count": 74,
      "outputs": [
        {
          "output_type": "execute_result",
          "data": {
            "text/plain": [
              "25.0"
            ]
          },
          "metadata": {},
          "execution_count": 74
        }
      ]
    },
    {
      "cell_type": "markdown",
      "source": [
        "###Funciones Anónimas o LAMBDA\n",
        "\n",
        "1. Faciles y rapidas\n",
        "2. No necesitan la palabra clave def\n",
        "3. **Solo pueden emplear n parametros pero oslo se puede ejecutar una funcion por vez**\n",
        "\n",
        "Declarando una funcion anónima\n",
        "\n",
        "\n",
        "```\n",
        "variable: lamda (parametro): funcion del parametro\n",
        "```\n",
        "\n"
      ],
      "metadata": {
        "id": "xYFw8h5OFsNF"
      }
    },
    {
      "cell_type": "code",
      "source": [
        "#Ejemplo: Calculo del cuadrado de un numero\n",
        "cuadrado2=lambda a:a**a\n",
        "cuadrado2(7)"
      ],
      "metadata": {
        "colab": {
          "base_uri": "https://localhost:8080/"
        },
        "id": "fsFRNqeFFvgs",
        "outputId": "054392df-0d00-4c4e-c095-cb29bcd84223"
      },
      "execution_count": 65,
      "outputs": [
        {
          "output_type": "execute_result",
          "data": {
            "text/plain": [
              "823543"
            ]
          },
          "metadata": {},
          "execution_count": 65
        }
      ]
    },
    {
      "cell_type": "code",
      "source": [
        "#Ejemplo 2: Calcular area de un rectangulo\n",
        "area_rect=lambda base,altura:base*altura\n",
        "area_rect(1,2)"
      ],
      "metadata": {
        "colab": {
          "base_uri": "https://localhost:8080/"
        },
        "id": "RcYh8fvcHAp8",
        "outputId": "c8afd90a-36ec-4b1d-f8d4-4298947975aa"
      },
      "execution_count": 66,
      "outputs": [
        {
          "output_type": "execute_result",
          "data": {
            "text/plain": [
              "2"
            ]
          },
          "metadata": {},
          "execution_count": 66
        }
      ]
    },
    {
      "cell_type": "code",
      "source": [
        "#Ejemplo 3: Calcular si el cuadrado de un numero es mayor a 10\n",
        "ejemplo3=lambda a: print(f\"El cuadrado de {a} es mayor a 10\") if a**2 > 10 else print(f\"El cuadrado de {a} NO es mayor a 10\")\n",
        "ejemplo3(5)"
      ],
      "metadata": {
        "colab": {
          "base_uri": "https://localhost:8080/"
        },
        "id": "sbpbqBhyHdo0",
        "outputId": "fdbc61fe-999d-4c25-e61a-df7b81de9e03"
      },
      "execution_count": 70,
      "outputs": [
        {
          "output_type": "stream",
          "name": "stdout",
          "text": [
            "El cuadrado de 5 es mayor a 10\n"
          ]
        }
      ]
    },
    {
      "cell_type": "markdown",
      "source": [
        "###Ejercicio con funciones anonimas"
      ],
      "metadata": {
        "id": "Ot3_OqKDIYTj"
      }
    },
    {
      "cell_type": "code",
      "source": [
        "#1\tCrea una función que reciba un número y retorne su cuadrado.\n",
        "cuadrado3=lambda a:a**2\n",
        "cuadrado3(5)"
      ],
      "metadata": {
        "colab": {
          "base_uri": "https://localhost:8080/"
        },
        "id": "0GwC0Bj5IaWa",
        "outputId": "1ac21c01-370a-4c45-dda3-2cf54766273f"
      },
      "execution_count": 75,
      "outputs": [
        {
          "output_type": "execute_result",
          "data": {
            "text/plain": [
              "25"
            ]
          },
          "metadata": {},
          "execution_count": 75
        }
      ]
    },
    {
      "cell_type": "code",
      "source": [
        "#3\tCrea una función que reciba dos números y retorne su suma, resta, multiplicación y división.\n",
        "operaciones2=lambda a,b:f\"Suma: {a+b}, Resta: {a-b}, Multiplicación: {a*b}, División: {a/b}\"\n",
        "operaciones2(5,6)"
      ],
      "metadata": {
        "colab": {
          "base_uri": "https://localhost:8080/",
          "height": 35
        },
        "id": "oURC6eY6IqPj",
        "outputId": "e86631b0-ce21-43ca-f21f-3ba346260283"
      },
      "execution_count": 76,
      "outputs": [
        {
          "output_type": "execute_result",
          "data": {
            "text/plain": [
              "'Suma: 11, Resta: -1, Multiplicación: 30, División: 0.8333333333333334'"
            ],
            "application/vnd.google.colaboratory.intrinsic+json": {
              "type": "string"
            }
          },
          "metadata": {},
          "execution_count": 76
        }
      ]
    },
    {
      "cell_type": "code",
      "source": [
        "#4\tCrea una función que reciba una edad y retorne si es mayor de edad.\n",
        "mayor_edad2=lambda edad: \"Es mayor de edad\" if edad >= 18 else \"Es menor de edad\"\n",
        "mayor_edad2(20)"
      ],
      "metadata": {
        "colab": {
          "base_uri": "https://localhost:8080/",
          "height": 35
        },
        "id": "dRzXrEmwIzD6",
        "outputId": "ed8b2c96-9103-4e5c-86db-c9fc0964a065"
      },
      "execution_count": 77,
      "outputs": [
        {
          "output_type": "execute_result",
          "data": {
            "text/plain": [
              "'Es mayor de edad'"
            ],
            "application/vnd.google.colaboratory.intrinsic+json": {
              "type": "string"
            }
          },
          "metadata": {},
          "execution_count": 77
        }
      ]
    },
    {
      "cell_type": "code",
      "source": [
        "#5\tCrea una función que reciba una palabra y determine si es un palíndromo.\n",
        "palindromo2=lambda palabra: f\"Es un palíndromo\" if palabra == palabra[::-1] else \"No es un palíndromo\"\n",
        "palindromo2(\"oso\")"
      ],
      "metadata": {
        "colab": {
          "base_uri": "https://localhost:8080/",
          "height": 35
        },
        "id": "_2IY9_VLJAsi",
        "outputId": "6446b98e-52a4-45cb-f940-961e340b53a0"
      },
      "execution_count": 78,
      "outputs": [
        {
          "output_type": "execute_result",
          "data": {
            "text/plain": [
              "'Es un palíndromo'"
            ],
            "application/vnd.google.colaboratory.intrinsic+json": {
              "type": "string"
            }
          },
          "metadata": {},
          "execution_count": 78
        }
      ]
    },
    {
      "cell_type": "code",
      "source": [
        "#6\tCrea una función que reciba un texto y retorne cuántas vocales contiene.\n",
        "vocales2=lambda texto:len([letra for letra in texto if letra in [\"a\",\"e\",\"i\",\"o\",\"u\",\"A\",\"E\",\"I\",\"O\",\"U\"]])\n",
        "vocales2(\"este es un texto MUY largo\")"
      ],
      "metadata": {
        "colab": {
          "base_uri": "https://localhost:8080/"
        },
        "id": "jF511m7BJDVb",
        "outputId": "4d1c3117-face-4b07-cad1-a5b6f0a45979"
      },
      "execution_count": 79,
      "outputs": [
        {
          "output_type": "execute_result",
          "data": {
            "text/plain": [
              "9"
            ]
          },
          "metadata": {},
          "execution_count": 79
        }
      ]
    },
    {
      "cell_type": "code",
      "source": [
        "#7\tCrea una función que reciba una lista de números y retorne la suma total.\n",
        "suma2=lambda lista:sum(lista)\n",
        "suma2([1,2,7,3,42])"
      ],
      "metadata": {
        "colab": {
          "base_uri": "https://localhost:8080/"
        },
        "id": "OUgyyZrBJu3a",
        "outputId": "580db4f5-2b64-4119-cf09-93b9fdfcd81a"
      },
      "execution_count": 80,
      "outputs": [
        {
          "output_type": "execute_result",
          "data": {
            "text/plain": [
              "55"
            ]
          },
          "metadata": {},
          "execution_count": 80
        }
      ]
    },
    {
      "cell_type": "code",
      "source": [
        "#8\tCrea una función que reciba una lista y retorne el mayor y el menor elemento.\n",
        "mayorMenor2=lambda lista:f\"Mayor: {max(lista)}, Menor: {min(lista)}\"\n",
        "mayorMenor2([1,3,9,8,2])"
      ],
      "metadata": {
        "colab": {
          "base_uri": "https://localhost:8080/",
          "height": 35
        },
        "id": "IbzKJGYEJyaa",
        "outputId": "b4a79e3b-dae7-4d57-f2ef-c67641986cff"
      },
      "execution_count": 81,
      "outputs": [
        {
          "output_type": "execute_result",
          "data": {
            "text/plain": [
              "'Mayor: 9, Menor: 1'"
            ],
            "application/vnd.google.colaboratory.intrinsic+json": {
              "type": "string"
            }
          },
          "metadata": {},
          "execution_count": 81
        }
      ]
    },
    {
      "cell_type": "code",
      "source": [
        "#9\tCrea una función que reciba una lista y retorne una nueva lista con los elementos en orden inverso.\n",
        "inverso2=lambda lista:lista[::-1]\n",
        "inverso2([1,2,3,4,5])"
      ],
      "metadata": {
        "colab": {
          "base_uri": "https://localhost:8080/"
        },
        "id": "q8MYo1v2J88q",
        "outputId": "80bf5cfa-9392-4c8c-9ffb-18d434a60cc1"
      },
      "execution_count": 82,
      "outputs": [
        {
          "output_type": "execute_result",
          "data": {
            "text/plain": [
              "[5, 4, 3, 2, 1]"
            ]
          },
          "metadata": {},
          "execution_count": 82
        }
      ]
    },
    {
      "cell_type": "code",
      "source": [
        "#10\tCrea una función que reciba una lista de nombres y retorne cuántos nombres comienzan con vocal.\n",
        "nombresV2=lambda listaNombres:len([nombre for nombre in listaNombres.split(\",\") if nombre[0] in [\"a\",\"e\",\"i\",\"o\",\"u\",\"A\",\"E\",\"I\",\"O\",\"U\"]])\n",
        "nombresV2(\"Juan,Ana,Maria,Luis,Omar,Oscar\")"
      ],
      "metadata": {
        "colab": {
          "base_uri": "https://localhost:8080/"
        },
        "id": "PY4VVud-J_JS",
        "outputId": "3eb06b57-16e8-4ec8-bb0b-75847f0dc98d"
      },
      "execution_count": 83,
      "outputs": [
        {
          "output_type": "execute_result",
          "data": {
            "text/plain": [
              "3"
            ]
          },
          "metadata": {},
          "execution_count": 83
        }
      ]
    },
    {
      "cell_type": "code",
      "source": [
        "#14\tCrea una función que reciba un diccionario de productos (clave: nombre, valor: precio) y retorne el total.\n",
        "dicProductos2=lambda dicProductos:sum(dicProductos.values())\n",
        "diccionarioProductos(dicProductos)"
      ],
      "metadata": {
        "colab": {
          "base_uri": "https://localhost:8080/"
        },
        "id": "SuW5fnueLp6p",
        "outputId": "5e8a6f97-a89c-4c7e-ca20-6582a1085561"
      },
      "execution_count": 86,
      "outputs": [
        {
          "output_type": "execute_result",
          "data": {
            "text/plain": [
              "60"
            ]
          },
          "metadata": {},
          "execution_count": 86
        }
      ]
    },
    {
      "cell_type": "code",
      "source": [
        "#15\tCrea una función que reciba un diccionario de estudiantes (clave: nombre, valor: nota) y retorne el promedio.\n",
        "promedio2=lambda dicNotas:sum(dicNotas.values())/len(dicNotas)\n",
        "\n",
        "promedio2(estudiantes)"
      ],
      "metadata": {
        "colab": {
          "base_uri": "https://localhost:8080/"
        },
        "id": "Ej1dCSiGMI04",
        "outputId": "d0e089d5-5ec7-40bb-ad43-757d7da9ccbb"
      },
      "execution_count": 88,
      "outputs": [
        {
          "output_type": "execute_result",
          "data": {
            "text/plain": [
              "32.0"
            ]
          },
          "metadata": {},
          "execution_count": 88
        }
      ]
    },
    {
      "cell_type": "code",
      "source": [
        "#16\tCrea una función que reciba un diccionario y un nombre, y retorne la nota si existe o 'no encontrado'.\n",
        "nota2=lambda dicNotas, nombre:dicNotas[nombre] if nombre in dicNotas else \"No encontrado\"\n",
        "\n",
        "print(nota2(estudiantes, \"Pepe\"))\n",
        "print(nota2(estudiantes, \"Ana\"))"
      ],
      "metadata": {
        "colab": {
          "base_uri": "https://localhost:8080/"
        },
        "id": "VKSBnjlpMbNQ",
        "outputId": "a9fe1bd6-f441-44e5-f4b3-6de7cbc300dd"
      },
      "execution_count": 89,
      "outputs": [
        {
          "output_type": "stream",
          "name": "stdout",
          "text": [
            "30\n",
            "No encontrado\n"
          ]
        }
      ]
    },
    {
      "cell_type": "code",
      "source": [
        "#17\tCrea una función que reciba un diccionario y retorne el nombre del estudiante con mayor nota.\n",
        "mayorNota2 = lambda dicNotas: max(dicNotas, key=dicNotas.get)\n",
        "\n",
        "mayorNota2(estudiantes)"
      ],
      "metadata": {
        "colab": {
          "base_uri": "https://localhost:8080/",
          "height": 35
        },
        "id": "r3Y9pgfEMjWP",
        "outputId": "1560d40e-8481-47b7-fc14-f2df0c52e1db"
      },
      "execution_count": 90,
      "outputs": [
        {
          "output_type": "execute_result",
          "data": {
            "text/plain": [
              "'Maria'"
            ],
            "application/vnd.google.colaboratory.intrinsic+json": {
              "type": "string"
            }
          },
          "metadata": {},
          "execution_count": 90
        }
      ]
    },
    {
      "cell_type": "code",
      "source": [
        "#18\tCrea una función que reciba un diccionario de productos y retorne los productos con precios mayores a un valor dado.\n",
        "precioMayor2=lambda dicProductos, valor: [key for key in dicProductos if dicProductos[key] > valor]\n",
        "precioMayor2(dicProductos, 20)"
      ],
      "metadata": {
        "colab": {
          "base_uri": "https://localhost:8080/"
        },
        "id": "rxhWVQlCM-aI",
        "outputId": "ff833f0b-e9a3-4f63-fe98-456bf6030772"
      },
      "execution_count": 91,
      "outputs": [
        {
          "output_type": "execute_result",
          "data": {
            "text/plain": [
              "['Naranja']"
            ]
          },
          "metadata": {},
          "execution_count": 91
        }
      ]
    },
    {
      "cell_type": "code",
      "source": [
        "#19\tCrea una función que reciba un diccionario de empleados (clave: nombre, valor: lista de horas trabajadas) y retorne el total de horas por empleado.\n",
        "horasTrabajadas2=lambda dicEmpleados: {key:sum(value) for key, value in dicEmpleados.items()}\n",
        "horasTrabajadas2(dicEmpleados)"
      ],
      "metadata": {
        "colab": {
          "base_uri": "https://localhost:8080/"
        },
        "id": "4tqee18HNGD_",
        "outputId": "e0b51965-c974-4db1-ad0e-9f857df05f54"
      },
      "execution_count": 92,
      "outputs": [
        {
          "output_type": "execute_result",
          "data": {
            "text/plain": [
              "{'Pepe': 60, 'Juan': 90, 'Maria': 120}"
            ]
          },
          "metadata": {},
          "execution_count": 92
        }
      ]
    }
  ]
}