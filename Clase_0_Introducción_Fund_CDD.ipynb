{
  "nbformat": 4,
  "nbformat_minor": 0,
  "metadata": {
    "colab": {
      "provenance": [],
      "authorship_tag": "ABX9TyMIUSfhMJBVknY2mvlMMpHm",
      "include_colab_link": true
    },
    "kernelspec": {
      "name": "python3",
      "display_name": "Python 3"
    },
    "language_info": {
      "name": "python"
    }
  },
  "cells": [
    {
      "cell_type": "markdown",
      "metadata": {
        "id": "view-in-github",
        "colab_type": "text"
      },
      "source": [
        "<a href=\"https://colab.research.google.com/github/CyJavac/CIENCIA_DATOS_2025/blob/main/Clase_0_Introducci%C3%B3n_Fund_CDD.ipynb\" target=\"_parent\"><img src=\"https://colab.research.google.com/assets/colab-badge.svg\" alt=\"Open In Colab\"/></a>"
      ]
    },
    {
      "cell_type": "markdown",
      "source": [
        "#Clase 0!!\n",
        "4 de Agosto\n",
        "\n",
        "Carlos Abaunza\n"
      ],
      "metadata": {
        "id": "WHv5crIWtrXA"
      }
    },
    {
      "cell_type": "markdown",
      "source": [
        "#Prueba de valoración\n",
        "Se realizará una prueba de aptitud de programación.\n",
        "Para esto se tendrá en cuenta lo siguiente:\n",
        "* La prueba durará dos horas\n",
        "* El estudiante deberá intentar desarrollar cada punto.\n",
        "* En caso de no recordar qué hacer, el estudiante deberá escribir con algoritmia la solución del ejercicio."
      ],
      "metadata": {
        "id": "qdvK026WusVV"
      }
    },
    {
      "cell_type": "markdown",
      "source": [
        "##Estructuras de selección\n",
        "La estructura de selección en python, se declara con la palabra \"if\", y se emplea de la siguiente forma:\n",
        "\n",
        "```\n",
        "if (condición):\n",
        "  Si se cumple pasa algo\n",
        "else:\n",
        "  Si no se cumple, pasa otra cosa\n",
        "```"
      ],
      "metadata": {
        "id": "5JFXZUxbu3h0"
      }
    },
    {
      "cell_type": "markdown",
      "source": [
        "###Nivel 3"
      ],
      "metadata": {
        "id": "P32ww4y8vB8U"
      }
    },
    {
      "cell_type": "markdown",
      "source": [],
      "metadata": {
        "id": "TfhyPWLDvRHM"
      }
    }
  ]
}