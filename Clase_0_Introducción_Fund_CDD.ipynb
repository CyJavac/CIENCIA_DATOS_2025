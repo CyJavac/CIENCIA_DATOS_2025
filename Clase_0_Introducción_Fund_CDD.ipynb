{
  "nbformat": 4,
  "nbformat_minor": 0,
  "metadata": {
    "colab": {
      "provenance": []
    },
    "kernelspec": {
      "name": "python3",
      "display_name": "Python 3"
    },
    "language_info": {
      "name": "python"
    }
  },
  "cells": [
    {
      "cell_type": "markdown",
      "source": [
        "#Clase 0!!"
      ],
      "metadata": {
        "id": "WHv5crIWtrXA"
      }
    },
    {
      "cell_type": "code",
      "execution_count": null,
      "metadata": {
        "id": "kW7QZHB5r4vC"
      },
      "outputs": [],
      "source": []
    }
  ]
}