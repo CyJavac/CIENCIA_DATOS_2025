{
  "nbformat": 4,
  "nbformat_minor": 0,
  "metadata": {
    "colab": {
      "provenance": [],
      "authorship_tag": "ABX9TyPTP8qokZo7dHR+AdfPexVr",
      "include_colab_link": true
    },
    "kernelspec": {
      "name": "python3",
      "display_name": "Python 3"
    },
    "language_info": {
      "name": "python"
    }
  },
  "cells": [
    {
      "cell_type": "markdown",
      "metadata": {
        "id": "view-in-github",
        "colab_type": "text"
      },
      "source": [
        "<a href=\"https://colab.research.google.com/github/CyJavac/CIENCIA_DATOS_2025/blob/main/Clase_0_Introducci%C3%B3n_Fund_CDD.ipynb\" target=\"_parent\"><img src=\"https://colab.research.google.com/assets/colab-badge.svg\" alt=\"Open In Colab\"/></a>"
      ]
    },
    {
      "cell_type": "markdown",
      "source": [
        "#Clase 0!!"
      ],
      "metadata": {
        "id": "WHv5crIWtrXA"
      }
    },
    {
      "cell_type": "code",
      "execution_count": null,
      "metadata": {
        "id": "kW7QZHB5r4vC"
      },
      "outputs": [],
      "source": [
        "#No one understand the difference between lemons and lemon's juice"
      ]
    }
  ]
}